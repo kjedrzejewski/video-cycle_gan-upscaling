{
 "cells": [
  {
   "cell_type": "code",
   "execution_count": 4,
   "metadata": {},
   "outputs": [],
   "source": [
    "import requests\n",
    "import pandas as pd\n",
    "import re\n",
    "import pickle\n",
    "import os\n",
    "import warnings\n",
    "from tqdm import tnrange, tqdm_notebook\n",
    "from PIL import Image"
   ]
  },
  {
   "cell_type": "code",
   "execution_count": 5,
   "metadata": {},
   "outputs": [],
   "source": [
    "url_tpl = \"https://unsplash.com/napi/search/photos?query=full%20hd&xp=&per_page=300&page={}\"\n",
    "directory = \"photo\""
   ]
  },
  {
   "cell_type": "markdown",
   "metadata": {},
   "source": [
    "# Find image URLs"
   ]
  },
  {
   "cell_type": "code",
   "execution_count": 80,
   "metadata": {},
   "outputs": [],
   "source": [
    "page = 1\n",
    "all_photo_df = pd.DataFrame()\n",
    "\n",
    "while True:\n",
    "    url = url_tpl.format(page)\n",
    "    resp = requests.get(url = url)\n",
    "    photo_list = resp.json()[\"results\"]\n",
    "    if len(photo_list) == 0:\n",
    "        break\n",
    "    photo_df = pd.DataFrame(photo_list)\n",
    "    all_photo_df = pd.concat([all_photo_df, photo_df])\n",
    "    page = page + 1\n",
    "    \n",
    "all_photo_df = all_photo_df.reset_index(drop=True)"
   ]
  },
  {
   "cell_type": "code",
   "execution_count": 140,
   "metadata": {},
   "outputs": [],
   "source": [
    "all_photo_df_mini = pd.DataFrame({\n",
    "    'width': all_photo_df['width'],\n",
    "    'height': all_photo_df['height'],\n",
    "    'url': all_photo_df['urls'].apply(lambda x : x['raw'])\n",
    "})"
   ]
  },
  {
   "cell_type": "code",
   "execution_count": 148,
   "metadata": {},
   "outputs": [],
   "source": [
    "all_photo_file = open('all_photo_df.pkl', 'wb')\n",
    "pickle.dump(all_photo_df_mini, all_photo_file)\n",
    "all_photo_file.close()"
   ]
  },
  {
   "cell_type": "markdown",
   "metadata": {},
   "source": [
    "# Download images"
   ]
  },
  {
   "cell_type": "code",
   "execution_count": 3,
   "metadata": {},
   "outputs": [],
   "source": [
    "all_photo_file = open('all_photo_df.pkl', 'rb')\n",
    "all_photo_df_mini = pickle.load(all_photo_file)\n",
    "all_photo_file.close()"
   ]
  },
  {
   "cell_type": "code",
   "execution_count": null,
   "metadata": {},
   "outputs": [],
   "source": [
    "num = 0\n",
    "location_tpl = \"../images/photo_raw/%04d_%04d_%04d.jpg\"\n",
    "\n",
    "for id, photo in all_photo_df_mini.iterrows():\n",
    "    width = photo['width']\n",
    "    height = photo['height']\n",
    "    im_url = photo['url']\n",
    "    location = location_tpl % (num, width, height)\n",
    "    if not os.path.isfile(location):\n",
    "        img = requests.get(im_url).content\n",
    "        with open(location, 'wb') as f:\n",
    "            f.write(img)\n",
    "    num = num + 1"
   ]
  },
  {
   "cell_type": "markdown",
   "metadata": {},
   "source": [
    "# Convert images"
   ]
  },
  {
   "cell_type": "markdown",
   "metadata": {},
   "source": [
    "## HD conversion"
   ]
  },
  {
   "cell_type": "code",
   "execution_count": null,
   "metadata": {},
   "outputs": [],
   "source": [
    "input_dir = \"../images/photo_raw\"\n",
    "output_dir = \"../images/photo_fullhd\"\n",
    "\n",
    "target_width = 1920\n",
    "target_height = 1080\n",
    "\n",
    "image_files = os.listdir(input_dir)\n",
    "image_files = list(filter(lambda x: x.endswith('.jpg'), image_files))\n",
    "\n",
    "Image.MAX_IMAGE_PIXELS = 999999999999 # cause there are some large files\n",
    "\n",
    "for im in tqdm_notebook(image_files):\n",
    "    input_loc = input_dir + '/' + im\n",
    "    output_loc = output_dir + '/' + im\n",
    "\n",
    "    img = Image.open(input_loc)\n",
    "    img = img.convert('RGB') # as it seems some images are not JPG\n",
    "\n",
    "    if img.width < img.height:\n",
    "        img = img.rotate(90, expand=1)\n",
    "\n",
    "    scale = max(target_width / img.width, target_height / img.height)\n",
    "    new_width = round(scale * img.width)\n",
    "    new_height = round(scale * img.height)\n",
    "\n",
    "    img_resized = img.resize((new_width, new_height), Image.LANCZOS)\n",
    "\n",
    "    crop_left = int((img_resized.width - target_width)/2)\n",
    "    crop_top = int((img_resized.height - target_height)/2)\n",
    "\n",
    "    img_cropped = img_resized.crop((crop_left, crop_top, crop_left + target_width, crop_top + target_height))\n",
    "\n",
    "    img_cropped.save(output_loc, quality = 100)"
   ]
  },
  {
   "cell_type": "markdown",
   "metadata": {},
   "source": [
    "## Lowres conversion"
   ]
  },
  {
   "cell_type": "code",
   "execution_count": 7,
   "metadata": {},
   "outputs": [
    {
     "data": {
      "application/vnd.jupyter.widget-view+json": {
       "model_id": "a5d1d2ad55e74a2289c7be401d724774",
       "version_major": 2,
       "version_minor": 0
      },
      "text/plain": [
       "HBox(children=(IntProgress(value=0, max=3518), HTML(value='')))"
      ]
     },
     "metadata": {},
     "output_type": "display_data"
    },
    {
     "name": "stderr",
     "output_type": "stream",
     "text": [
      "/home/ec2-user/anaconda3/envs/tensorflow_p36/lib/python3.6/site-packages/PIL/TiffImagePlugin.py:747: UserWarning: Possibly corrupt EXIF data.  Expecting to read 4718592 bytes but only got 0. Skipping tag 0\n",
      "  \" Skipping tag %s\" % (size, len(data), tag))\n"
     ]
    }
   ],
   "source": [
    "input_dir = \"../images/photo_raw\"\n",
    "output_dir = \"../images/photo_lowres\"\n",
    "\n",
    "target_width = 480\n",
    "target_height = 270\n",
    "\n",
    "image_files = os.listdir(input_dir)\n",
    "image_files = list(filter(lambda x: x.endswith('.jpg'), image_files))\n",
    "\n",
    "Image.MAX_IMAGE_PIXELS = 999999999999 # cause there are some large files\n",
    "\n",
    "for im in tqdm_notebook(image_files):\n",
    "    input_loc = input_dir + '/' + im\n",
    "    output_loc = output_dir + '/' + im\n",
    "\n",
    "    img = Image.open(input_loc)\n",
    "    img = img.convert('RGB') # as it seems some images are not JPG\n",
    "\n",
    "    if img.width < img.height:\n",
    "        img = img.rotate(90, expand=1)\n",
    "\n",
    "    scale = max(target_width / img.width, target_height / img.height)\n",
    "    new_width = round(scale * img.width)\n",
    "    new_height = round(scale * img.height)\n",
    "\n",
    "    img_resized = img.resize((new_width, new_height), Image.LANCZOS)\n",
    "\n",
    "    crop_left = int((img_resized.width - target_width)/2)\n",
    "    crop_top = int((img_resized.height - target_height)/2)\n",
    "\n",
    "    img_cropped = img_resized.crop((crop_left, crop_top, crop_left + target_width, crop_top + target_height))\n",
    "\n",
    "    img_cropped.save(output_loc, quality = 100)"
   ]
  },
  {
   "cell_type": "code",
   "execution_count": null,
   "metadata": {},
   "outputs": [],
   "source": []
  }
 ],
 "metadata": {
  "kernelspec": {
   "display_name": "Python 3",
   "language": "python",
   "name": "python3"
  },
  "language_info": {
   "codemirror_mode": {
    "name": "ipython",
    "version": 3
   },
   "file_extension": ".py",
   "mimetype": "text/x-python",
   "name": "python",
   "nbconvert_exporter": "python",
   "pygments_lexer": "ipython3",
   "version": "3.6.5"
  }
 },
 "nbformat": 4,
 "nbformat_minor": 4
}
