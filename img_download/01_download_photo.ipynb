{
 "cells": [
  {
   "cell_type": "code",
   "execution_count": 142,
   "metadata": {},
   "outputs": [],
   "source": [
    "import requests\n",
    "import pandas as pd\n",
    "import re\n",
    "import pickle\n",
    "import os"
   ]
  },
  {
   "cell_type": "code",
   "execution_count": 42,
   "metadata": {},
   "outputs": [],
   "source": [
    "url_tpl = \"https://unsplash.com/napi/search/photos?query=full%20hd&xp=&per_page=300&page={}\"\n",
    "directory = \"photo\""
   ]
  },
  {
   "cell_type": "markdown",
   "metadata": {},
   "source": [
    "# Find image URLs"
   ]
  },
  {
   "cell_type": "code",
   "execution_count": 80,
   "metadata": {},
   "outputs": [],
   "source": [
    "page = 1\n",
    "all_photo_df = pd.DataFrame()\n",
    "\n",
    "while True:\n",
    "    url = url_tpl.format(page)\n",
    "    resp = requests.get(url = url)\n",
    "    photo_list = resp.json()[\"results\"]\n",
    "    if len(photo_list) == 0:\n",
    "        break\n",
    "    photo_df = pd.DataFrame(photo_list)\n",
    "    all_photo_df = pd.concat([all_photo_df, photo_df])\n",
    "    page = page + 1\n",
    "    \n",
    "all_photo_df = all_photo_df.reset_index(drop=True)"
   ]
  },
  {
   "cell_type": "code",
   "execution_count": 140,
   "metadata": {},
   "outputs": [],
   "source": [
    "all_photo_df_mini = pd.DataFrame({\n",
    "    'width': all_photo_df['width'],\n",
    "    'height': all_photo_df['height'],\n",
    "    'url': all_photo_df['urls'].apply(lambda x : x['raw'])\n",
    "})"
   ]
  },
  {
   "cell_type": "code",
   "execution_count": 148,
   "metadata": {},
   "outputs": [],
   "source": [
    "all_photo_file = open('all_photo_df.pkl', 'wb')\n",
    "pickle.dump(all_photo_df_mini, all_photo_file)\n",
    "all_photo_file.close()"
   ]
  },
  {
   "cell_type": "markdown",
   "metadata": {},
   "source": [
    "# Download images"
   ]
  },
  {
   "cell_type": "code",
   "execution_count": null,
   "metadata": {},
   "outputs": [],
   "source": [
    "num = 0\n",
    "location_tpl = \"../images/photo_raw/%04d_%04d_%04d.jpg\"\n",
    "\n",
    "for id, photo in all_photo_df_mini.iterrows():\n",
    "    width = photo['width']\n",
    "    height = photo['height']\n",
    "    im_url = photo['url']\n",
    "    location = location_tpl % (num, width, height)\n",
    "    if not os.path.isfile(location):\n",
    "        img = requests.get(im_url).content\n",
    "        with open(location, 'wb') as f:\n",
    "            f.write(img)\n",
    "    num = num + 1"
   ]
  },
  {
   "cell_type": "markdown",
   "metadata": {},
   "source": [
    "# Convert images"
   ]
  },
  {
   "cell_type": "code",
   "execution_count": null,
   "metadata": {},
   "outputs": [],
   "source": []
  },
  {
   "cell_type": "code",
   "execution_count": null,
   "metadata": {},
   "outputs": [],
   "source": []
  }
 ],
 "metadata": {
  "kernelspec": {
   "display_name": "Python 3",
   "language": "python",
   "name": "python3"
  },
  "language_info": {
   "codemirror_mode": {
    "name": "ipython",
    "version": 3
   },
   "file_extension": ".py",
   "mimetype": "text/x-python",
   "name": "python",
   "nbconvert_exporter": "python",
   "pygments_lexer": "ipython3",
   "version": "3.7.3"
  }
 },
 "nbformat": 4,
 "nbformat_minor": 4
}
