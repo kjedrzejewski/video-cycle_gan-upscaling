{
 "cells": [
  {
   "cell_type": "code",
   "execution_count": 89,
   "metadata": {},
   "outputs": [],
   "source": [
    "import requests\n",
    "import pandas as pd\n",
    "import re"
   ]
  },
  {
   "cell_type": "code",
   "execution_count": 6,
   "metadata": {},
   "outputs": [],
   "source": [
    "url_tpl = \"https://www.wikiart.org/en/paintings-by-style/{}?json=2&layout=new&page={}&resultType=masonry\"\n",
    "artist = \"ukiyo-e\""
   ]
  },
  {
   "cell_type": "code",
   "execution_count": 58,
   "metadata": {},
   "outputs": [],
   "source": [
    "url = url_tpl.format(artist,0)"
   ]
  },
  {
   "cell_type": "code",
   "execution_count": 59,
   "metadata": {},
   "outputs": [],
   "source": [
    "resp = requests.get(url = url)"
   ]
  },
  {
   "cell_type": "code",
   "execution_count": 41,
   "metadata": {},
   "outputs": [],
   "source": [
    "paintings_list = resp.json()[\"Paintings\"]"
   ]
  },
  {
   "cell_type": "code",
   "execution_count": 35,
   "metadata": {},
   "outputs": [],
   "source": [
    "paintings_df = pd.DataFrame(paintings_list)"
   ]
  },
  {
   "cell_type": "code",
   "execution_count": 83,
   "metadata": {},
   "outputs": [],
   "source": [
    "page = 1\n",
    "all_paintings_df = pd.DataFrame()\n",
    "\n",
    "while True:\n",
    "    url = url_tpl.format(artist, page)\n",
    "    resp = requests.get(url = url)\n",
    "    paintings_list = resp.json()[\"Paintings\"]\n",
    "    if paintings_list == None:\n",
    "        break\n",
    "    paintings_df = pd.DataFrame(paintings_list)\n",
    "    all_paintings_df = pd.concat([all_paintings_df, paintings_df])\n",
    "    page = page + 1\n",
    "    \n",
    "all_paintings_df = all_paintings_df.reset_index(drop=True)"
   ]
  },
  {
   "cell_type": "code",
   "execution_count": 98,
   "metadata": {},
   "outputs": [],
   "source": [
    "for im_url in all_paintings_df.image:\n",
    "    name = re.findall(\"[^/]+$\", im_url)[0]\n",
    "    img = requests.get(im_url).content\n",
    "    with open(artist + \"/\" + name, 'wb') as f:\n",
    "        f.write(img)"
   ]
  },
  {
   "cell_type": "code",
   "execution_count": null,
   "metadata": {},
   "outputs": [],
   "source": []
  }
 ],
 "metadata": {
  "kernelspec": {
   "display_name": "Environment (conda_tensorflow_p36)",
   "language": "python",
   "name": "conda_tensorflow_p36"
  },
  "language_info": {
   "codemirror_mode": {
    "name": "ipython",
    "version": 3
   },
   "file_extension": ".py",
   "mimetype": "text/x-python",
   "name": "python",
   "nbconvert_exporter": "python",
   "pygments_lexer": "ipython3",
   "version": "3.6.5"
  }
 },
 "nbformat": 4,
 "nbformat_minor": 2
}
