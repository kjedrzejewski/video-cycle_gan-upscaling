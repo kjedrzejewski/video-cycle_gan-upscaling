{
 "cells": [
  {
   "cell_type": "code",
   "execution_count": 3,
   "metadata": {},
   "outputs": [],
   "source": [
    "import requests\n",
    "import pandas as pd\n",
    "import re\n",
    "import pickle\n",
    "import os\n",
    "import warnings\n",
    "from tqdm import tnrange, tqdm_notebook\n",
    "from PIL import Image"
   ]
  },
  {
   "cell_type": "code",
   "execution_count": 19,
   "metadata": {},
   "outputs": [],
   "source": [
    "url_tpl = \"https://www.wikiart.org/en/paintings-by-style/{}?json=2&layout=new&page={}&resultType=masonry\"\n",
    "artist = \"ukiyo-e\""
   ]
  },
  {
   "cell_type": "markdown",
   "metadata": {},
   "source": [
    "# Find image URLs"
   ]
  },
  {
   "cell_type": "code",
   "execution_count": 20,
   "metadata": {},
   "outputs": [],
   "source": [
    "page = 1\n",
    "all_paintings_df = pd.DataFrame()\n",
    "\n",
    "while True:\n",
    "    url = url_tpl.format(artist, page)\n",
    "    resp = requests.get(url = url)\n",
    "    paintings_list = resp.json()[\"Paintings\"]\n",
    "    if paintings_list == None:\n",
    "        break\n",
    "    paintings_df = pd.DataFrame(paintings_list)\n",
    "    all_paintings_df = pd.concat([all_paintings_df, paintings_df])\n",
    "    page = page + 1\n",
    "    \n",
    "all_paintings_df = all_paintings_df.reset_index(drop=True)"
   ]
  },
  {
   "cell_type": "markdown",
   "metadata": {},
   "source": [
    "# Download images"
   ]
  },
  {
   "cell_type": "code",
   "execution_count": 25,
   "metadata": {},
   "outputs": [],
   "source": [
    "num = 0\n",
    "\n",
    "for im_url in all_paintings_df.image:\n",
    "    name = re.findall(\"[^/]+$\", im_url)[0]\n",
    "    img = requests.get(im_url).content\n",
    "    with open(\"../images/\" + artist + \"_raw/\" + \"%04d\" % num + \"-\" + name, 'wb') as f:\n",
    "        f.write(img)\n",
    "    num = num + 1"
   ]
  },
  {
   "cell_type": "markdown",
   "metadata": {},
   "source": [
    "# Convert images"
   ]
  },
  {
   "cell_type": "markdown",
   "metadata": {},
   "source": [
    "## HD conversion"
   ]
  },
  {
   "cell_type": "code",
   "execution_count": 4,
   "metadata": {},
   "outputs": [
    {
     "data": {
      "application/vnd.jupyter.widget-view+json": {
       "model_id": "69e2a67d3df24524896b3585c225cff8",
       "version_major": 2,
       "version_minor": 0
      },
      "text/plain": [
       "HBox(children=(IntProgress(value=0, max=1737), HTML(value='')))"
      ]
     },
     "metadata": {},
     "output_type": "display_data"
    },
    {
     "name": "stdout",
     "output_type": "stream",
     "text": [
      "\n"
     ]
    }
   ],
   "source": [
    "input_dir = \"../images/ukiyo-e_raw\"\n",
    "output_dir = \"../images/ukiyo-e_fullhd\"\n",
    "\n",
    "target_width = 1920\n",
    "target_height = 1080\n",
    "\n",
    "image_files = os.listdir(input_dir)\n",
    "image_files = list(filter(lambda x: x.endswith('.jpg'), image_files))\n",
    "\n",
    "Image.MAX_IMAGE_PIXELS = 999999999999 # cause there are some large files\n",
    "\n",
    "for im in tqdm_notebook(image_files):\n",
    "    input_loc = input_dir + '/' + im\n",
    "    output_loc = output_dir + '/' + im\n",
    "\n",
    "    img = Image.open(input_loc)\n",
    "    img = img.convert('RGB') # as it seems some images are not JPG\n",
    "\n",
    "    if (img.width < target_width or img.height < target_height) and (img.height < target_width or img.width < target_height):\n",
    "        continue\n",
    "    \n",
    "    if img.width < img.height:\n",
    "        img = img.rotate(90, expand=1)\n",
    "\n",
    "    scale = max(target_width / img.width, target_height / img.height)\n",
    "    new_width = round(scale * img.width)\n",
    "    new_height = round(scale * img.height)\n",
    "\n",
    "    img_resized = img.resize((new_width, new_height), Image.LANCZOS)\n",
    "\n",
    "    crop_left = int((img_resized.width - target_width)/2)\n",
    "    crop_top = int((img_resized.height - target_height)/2)\n",
    "\n",
    "    img_cropped = img_resized.crop((crop_left, crop_top, crop_left + target_width, crop_top + target_height))\n",
    "\n",
    "    img_cropped.save(output_loc, quality = 100)"
   ]
  },
  {
   "cell_type": "code",
   "execution_count": null,
   "metadata": {},
   "outputs": [],
   "source": []
  }
 ],
 "metadata": {
  "kernelspec": {
   "display_name": "Python 3",
   "language": "python",
   "name": "python3"
  },
  "language_info": {
   "codemirror_mode": {
    "name": "ipython",
    "version": 3
   },
   "file_extension": ".py",
   "mimetype": "text/x-python",
   "name": "python",
   "nbconvert_exporter": "python",
   "pygments_lexer": "ipython3",
   "version": "3.6.6"
  }
 },
 "nbformat": 4,
 "nbformat_minor": 4
}
