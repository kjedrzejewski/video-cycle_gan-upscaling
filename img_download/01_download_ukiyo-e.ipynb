{
 "cells": [
  {
   "cell_type": "code",
   "execution_count": 3,
   "metadata": {},
   "outputs": [],
   "source": [
    "import requests\n",
    "import pandas as pd\n",
    "import re"
   ]
  },
  {
   "cell_type": "code",
   "execution_count": 19,
   "metadata": {},
   "outputs": [],
   "source": [
    "url_tpl = \"https://www.wikiart.org/en/paintings-by-style/{}?json=2&layout=new&page={}&resultType=masonry\"\n",
    "artist = \"ukiyo-e\""
   ]
  },
  {
   "cell_type": "code",
   "execution_count": 20,
   "metadata": {},
   "outputs": [],
   "source": [
    "page = 1\n",
    "all_paintings_df = pd.DataFrame()\n",
    "\n",
    "while True:\n",
    "    url = url_tpl.format(artist, page)\n",
    "    resp = requests.get(url = url)\n",
    "    paintings_list = resp.json()[\"Paintings\"]\n",
    "    if paintings_list == None:\n",
    "        break\n",
    "    paintings_df = pd.DataFrame(paintings_list)\n",
    "    all_paintings_df = pd.concat([all_paintings_df, paintings_df])\n",
    "    page = page + 1\n",
    "    \n",
    "all_paintings_df = all_paintings_df.reset_index(drop=True)"
   ]
  },
  {
   "cell_type": "code",
   "execution_count": 25,
   "metadata": {},
   "outputs": [],
   "source": [
    "num = 0\n",
    "\n",
    "for im_url in all_paintings_df.image:\n",
    "    name = re.findall(\"[^/]+$\", im_url)[0]\n",
    "    img = requests.get(im_url).content\n",
    "    with open(\"../images/\" + artist + \"_raw/\" + \"%04d\" % num + \"-\" + name, 'wb') as f:\n",
    "        f.write(img)\n",
    "    num = num + 1"
   ]
  },
  {
   "cell_type": "code",
   "execution_count": null,
   "metadata": {},
   "outputs": [],
   "source": []
  }
 ],
 "metadata": {
  "kernelspec": {
   "display_name": "Python 3",
   "language": "python",
   "name": "python3"
  },
  "language_info": {
   "codemirror_mode": {
    "name": "ipython",
    "version": 3
   },
   "file_extension": ".py",
   "mimetype": "text/x-python",
   "name": "python",
   "nbconvert_exporter": "python",
   "pygments_lexer": "ipython3",
   "version": "3.7.3"
  }
 },
 "nbformat": 4,
 "nbformat_minor": 4
}
