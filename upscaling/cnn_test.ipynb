{
 "cells": [
  {
   "cell_type": "code",
   "execution_count": 103,
   "metadata": {},
   "outputs": [],
   "source": [
    "from keras.layers import Conv2D, Conv2DTranspose, Cropping2D\n",
    "from keras.layers import Input\n",
    "from keras.models import Model\n",
    "\n",
    "import keras.backend as K\n",
    "from keras.applications.vgg19 import VGG19\n",
    "from keras.models import Model\n",
    "from keras.layers import Input, Lambda, Add, Concatenate\n",
    "from keras.optimizers import Adam\n",
    "from keras.layers.core import Activation\n",
    "from keras.layers.convolutional import UpSampling2D, Conv2D, Conv2DTranspose\n",
    "from keras.layers.advanced_activations import LeakyReLU, PReLU\n",
    "from keras.layers.normalization import BatchNormalization\n",
    "from keras.models import load_model\n",
    "\n",
    "import math"
   ]
  },
  {
   "cell_type": "code",
   "execution_count": 71,
   "metadata": {},
   "outputs": [],
   "source": [
    "upscale_factor = 8\n",
    "output_image_shape = (1080, 1920, input_image_shape[2])\n",
    "input_image_shape = (output_image_shape[0] // upscale_factor, output_image_shape[1] // upscale_factor, output_image_shape[2])\n",
    "\n",
    "downscale_times = int(math.log(upscale_factor,2)) - 2\n",
    "upscale_times = int(math.log(upscale_factor,2)) + 1"
   ]
  },
  {
   "cell_type": "code",
   "execution_count": 72,
   "metadata": {},
   "outputs": [],
   "source": [
    "input_layer = Input(shape = input_image_shape)"
   ]
  },
  {
   "cell_type": "code",
   "execution_count": 73,
   "metadata": {},
   "outputs": [],
   "source": [
    "layers = Conv2D(filters = 1, kernel_size = 3, strides = 2, padding = \"same\")(input_layer)\n",
    "#layers = Conv2D(filters = 1, kernel_size = 3, strides = 2, padding = \"same\")(layers)\n",
    "#layers = Conv2D(filters = 1, kernel_size = 3, strides = 2, padding = \"same\")(layers)"
   ]
  },
  {
   "cell_type": "code",
   "execution_count": 74,
   "metadata": {},
   "outputs": [],
   "source": [
    "layers = Conv2DTranspose(filters = 1, kernel_size = 3, strides = 2, padding = \"same\")(layers)\n",
    "layers = Conv2DTranspose(filters = 1, kernel_size = 3, strides = 2, padding = \"same\")(layers)\n",
    "layers = Conv2DTranspose(filters = 1, kernel_size = 3, strides = 2, padding = \"same\")(layers)\n",
    "layers = Conv2DTranspose(filters = 1, kernel_size = 3, strides = 2, padding = \"same\")(layers)"
   ]
  },
  {
   "cell_type": "code",
   "execution_count": 75,
   "metadata": {},
   "outputs": [],
   "source": [
    "model = Model(inputs = input_layer, outputs = layers)"
   ]
  },
  {
   "cell_type": "code",
   "execution_count": 76,
   "metadata": {},
   "outputs": [],
   "source": [
    "output_shape = model.output_shape"
   ]
  },
  {
   "cell_type": "code",
   "execution_count": 78,
   "metadata": {},
   "outputs": [],
   "source": [
    "height_crop = (output_shape[1] - output_image_shape[0]) // 2\n",
    "width_crop  = (output_shape[2] - output_image_shape[1]) // 2"
   ]
  },
  {
   "cell_type": "code",
   "execution_count": 79,
   "metadata": {},
   "outputs": [
    {
     "data": {
      "text/plain": [
       "(4, 0)"
      ]
     },
     "execution_count": 79,
     "metadata": {},
     "output_type": "execute_result"
    }
   ],
   "source": [
    "(height_crop, width_crop)"
   ]
  },
  {
   "cell_type": "code",
   "execution_count": 80,
   "metadata": {},
   "outputs": [],
   "source": [
    "layers = Cropping2D(cropping=(height_crop, width_crop))(layers)"
   ]
  },
  {
   "cell_type": "code",
   "execution_count": 81,
   "metadata": {},
   "outputs": [],
   "source": [
    "model = Model(inputs = input_layer, outputs = layers)"
   ]
  },
  {
   "cell_type": "code",
   "execution_count": 82,
   "metadata": {},
   "outputs": [
    {
     "data": {
      "text/plain": [
       "(None, 1080, 1920, 1)"
      ]
     },
     "execution_count": 82,
     "metadata": {},
     "output_type": "execute_result"
    }
   ],
   "source": [
    "model.output_shape"
   ]
  },
  {
   "cell_type": "code",
   "execution_count": 83,
   "metadata": {},
   "outputs": [
    {
     "name": "stdout",
     "output_type": "stream",
     "text": [
      "_________________________________________________________________\n",
      "Layer (type)                 Output Shape              Param #   \n",
      "=================================================================\n",
      "input_6 (InputLayer)         (None, 135, 240, 3)       0         \n",
      "_________________________________________________________________\n",
      "conv2d_18 (Conv2D)           (None, 68, 120, 1)        28        \n",
      "_________________________________________________________________\n",
      "conv2d_transpose_17 (Conv2DT (None, 136, 240, 1)       10        \n",
      "_________________________________________________________________\n",
      "conv2d_transpose_18 (Conv2DT (None, 272, 480, 1)       10        \n",
      "_________________________________________________________________\n",
      "conv2d_transpose_19 (Conv2DT (None, 544, 960, 1)       10        \n",
      "_________________________________________________________________\n",
      "conv2d_transpose_20 (Conv2DT (None, 1088, 1920, 1)     10        \n",
      "_________________________________________________________________\n",
      "cropping2d_4 (Cropping2D)    (None, 1080, 1920, 1)     0         \n",
      "=================================================================\n",
      "Total params: 68\n",
      "Trainable params: 68\n",
      "Non-trainable params: 0\n",
      "_________________________________________________________________\n"
     ]
    }
   ],
   "source": [
    "model.summary()"
   ]
  },
  {
   "cell_type": "code",
   "execution_count": 69,
   "metadata": {},
   "outputs": [
    {
     "data": {
      "text/plain": [
       "(1080, 1920, 3)"
      ]
     },
     "execution_count": 69,
     "metadata": {},
     "output_type": "execute_result"
    }
   ],
   "source": [
    "output_image_shape"
   ]
  },
  {
   "cell_type": "code",
   "execution_count": 70,
   "metadata": {},
   "outputs": [
    {
     "data": {
      "text/plain": [
       "1"
      ]
     },
     "execution_count": 70,
     "metadata": {},
     "output_type": "execute_result"
    }
   ],
   "source": [
    "downscale_times"
   ]
  },
  {
   "cell_type": "code",
   "execution_count": 247,
   "metadata": {},
   "outputs": [],
   "source": [
    "def same_size_unetish_block(model, kernal_size, filters, strides, name):\n",
    "    \n",
    "    model = Conv2D(filters = filters, kernel_size = kernal_size, strides = strides, padding = \"same\", name = name+'/Conv2D')(model)\n",
    "    model = PReLU(alpha_initializer='zeros', alpha_regularizer=None, alpha_constraint=None, shared_axes=[1,2], name = name+'/PReLU')(model)\n",
    "    \n",
    "    return model\n",
    "\n",
    "def downsampling_unetish_block(model, kernel_size, filters, strides, name):\n",
    "    \n",
    "    model = Conv2D(filters = filters, kernel_size = kernel_size, strides = strides, padding = \"same\", name = name+'/Conv2D')(model)\n",
    "    model = PReLU(alpha_initializer='zeros', alpha_regularizer=None, alpha_constraint=None, shared_axes=[1,2], name = name+'/PReLU')(model)\n",
    "    \n",
    "    return model\n",
    "\n",
    "def upsampling_unetish_block(model, kernel_size, filters, strides, name):\n",
    "    \n",
    "    model = Conv2DTranspose(filters = filters, kernel_size = kernel_size, strides = strides, padding = \"same\", name = name+'/Conv2DTrans')(model)\n",
    "    model = PReLU(alpha_initializer='zeros', alpha_regularizer=None, alpha_constraint=None, shared_axes=[1,2], name = name+'/PReLU')(model)\n",
    "    \n",
    "    return model\n",
    "\n",
    "def find_crop_shape(input_layer, output_down, output_up):\n",
    "    # this way the shapes of the output is calcualted\n",
    "    down_shape = Model(inputs = input_layer, outputs = output_down).output_shape\n",
    "    up_shape   = Model(inputs = input_layer, outputs = output_up).output_shape\n",
    "    \n",
    "    height_diff = up_shape[1] - down_shape[1]\n",
    "    width_diff  = up_shape[2] - down_shape[2]\n",
    "    \n",
    "    top_crop = height_diff // 2\n",
    "    left_crop = width_diff // 2\n",
    "    \n",
    "    crop_shapes = ((top_crop, height_diff - top_crop),(left_crop, width_diff - left_crop))\n",
    "    \n",
    "    return crop_shapes\n",
    "    \n",
    "    \n",
    "def concatenate_layers(input_layer, output_down, output_up, name):\n",
    "    \n",
    "    crop_shapes = find_crop_shape(input_layer, output_down, output_up)\n",
    "    \n",
    "    model = Cropping2D(cropping=crop_shapes, name = name+\"/Cropping2D\")(output_up)\n",
    "    model = Concatenate(axis = 3, name = name+\"/Concatenate\")([output_down, model])\n",
    "    \n",
    "    return model"
   ]
  },
  {
   "cell_type": "code",
   "execution_count": 257,
   "metadata": {},
   "outputs": [],
   "source": [
    "def make_upscaler_unetish(output_image_shape, upscale_factor = 4, step_size = 2, downscale_times = 2, initial_step_filter_count = 128): \n",
    "\n",
    "    upscale_times = int(math.log(upscale_factor,2)) + downscale_times\n",
    "    input_image_shape = (output_image_shape[0] // upscale_factor, output_image_shape[1] // upscale_factor, output_image_shape[2])\n",
    "    \n",
    "    upscaler_input = Input(shape = input_image_shape, name = 'input')\n",
    "    \n",
    "    model = Conv2D(filters = initial_step_filter_count, kernel_size = 9, strides = 1, padding = \"same\", name = 'initial/Conv2D')(upscaler_input)\n",
    "    model = PReLU(shared_axes=[1,2], name = 'initial/PReLU')(model)\n",
    "\n",
    "    upsc_model = model\n",
    "    \n",
    "    \n",
    "    outputs = []\n",
    "    step_filter_count = initial_step_filter_count\n",
    "    \n",
    "    # downsampling steps\n",
    "    for step in range(downscale_times):\n",
    "        \n",
    "        for index in range(step_size):\n",
    "            model = same_size_unetish_block(model, 3, step_filter_count, 1, \"down/\"+str(step)+\"/same/\"+str(index))\n",
    "        \n",
    "        outputs.append(model)\n",
    "        model = downsampling_unetish_block(model, 3, step_filter_count, 2, \"down/\"+str(step)+\"/down\")\n",
    "        step_filter_count = step_filter_count * 2\n",
    "    \n",
    "    \n",
    "    # steps at the bottom of U\n",
    "    for index in range(step_size):\n",
    "        model = same_size_unetish_block(model, 3, step_filter_count, 1, \"bottom/\"+str(step)+\"/same\"+str(index))\n",
    "    \n",
    "    \n",
    "    down_outputs_len = len(outputs)\n",
    "    \n",
    "    # upsampling steps\n",
    "    for step in range(upscale_times):\n",
    "        model = upsampling_unetish_block(model, 3, step_filter_count, 2, \"up/\"+str(step)+\"/up\")\n",
    "        \n",
    "        if step < down_outputs_len:\n",
    "            model = concatenate_layers(upscaler_input, outputs[down_outputs_len - step - 1], model, \"up/\"+str(step)+\"/concat\")\n",
    "            step_filter_count = step_filter_count // 2\n",
    "            \n",
    "        for index in range(step_size):\n",
    "            model = same_size_unetish_block(model, 3, step_filter_count, 1, \"up/\"+str(step)+\"/same/\"+str(index))\n",
    "    \n",
    "    \n",
    "    model = Conv2D(filters = 3, kernel_size = 9, strides = 1, padding = \"same\", name = 'final/Conv2D')(model)\n",
    "    model = Activation('tanh', name = 'final/tanh')(model)\n",
    "    \n",
    "    \n",
    "    # making sure the output is of the right shape\n",
    "    \n",
    "    # to extract the output shape\n",
    "    output_shape = Model(inputs = upscaler_input, outputs = model).output_shape\n",
    "\n",
    "    height_diff = output_shape[1] - output_image_shape[0]\n",
    "    width_diff  = output_shape[2] - output_image_shape[1]\n",
    "    \n",
    "    top_crop = height_diff // 2\n",
    "    left_crop = width_diff // 2\n",
    "    \n",
    "    crop_shapes = ((top_crop, height_diff - top_crop),(left_crop, width_diff - left_crop))\n",
    "    \n",
    "    model = Cropping2D(cropping=crop_shapes, name = 'final/Cropping2D')(model)\n",
    "    \n",
    "    upscaler_model = Model(inputs = upscaler_input, outputs = model)\n",
    "\n",
    "    return upscaler_model"
   ]
  },
  {
   "cell_type": "code",
   "execution_count": 258,
   "metadata": {},
   "outputs": [],
   "source": [
    "m = make_upscaler_unetish((1080,1920,3), 8)"
   ]
  },
  {
   "cell_type": "code",
   "execution_count": 259,
   "metadata": {},
   "outputs": [
    {
     "name": "stdout",
     "output_type": "stream",
     "text": [
      "__________________________________________________________________________________________________\n",
      "Layer (type)                    Output Shape         Param #     Connected to                     \n",
      "==================================================================================================\n",
      "input (InputLayer)              (None, 135, 240, 3)  0                                            \n",
      "__________________________________________________________________________________________________\n",
      "initial/Conv2D (Conv2D)         (None, 135, 240, 128 31232       input[0][0]                      \n",
      "__________________________________________________________________________________________________\n",
      "initial/PReLU (PReLU)           (None, 135, 240, 128 128         initial/Conv2D[0][0]             \n",
      "__________________________________________________________________________________________________\n",
      "down/0/same/0/Conv2D (Conv2D)   (None, 135, 240, 128 147584      initial/PReLU[0][0]              \n",
      "__________________________________________________________________________________________________\n",
      "down/0/same/0/PReLU (PReLU)     (None, 135, 240, 128 128         down/0/same/0/Conv2D[0][0]       \n",
      "__________________________________________________________________________________________________\n",
      "down/0/same/1/Conv2D (Conv2D)   (None, 135, 240, 128 147584      down/0/same/0/PReLU[0][0]        \n",
      "__________________________________________________________________________________________________\n",
      "down/0/same/1/PReLU (PReLU)     (None, 135, 240, 128 128         down/0/same/1/Conv2D[0][0]       \n",
      "__________________________________________________________________________________________________\n",
      "down/0/down/Conv2D (Conv2D)     (None, 68, 120, 128) 147584      down/0/same/1/PReLU[0][0]        \n",
      "__________________________________________________________________________________________________\n",
      "down/0/down/PReLU (PReLU)       (None, 68, 120, 128) 128         down/0/down/Conv2D[0][0]         \n",
      "__________________________________________________________________________________________________\n",
      "down/1/same/0/Conv2D (Conv2D)   (None, 68, 120, 256) 295168      down/0/down/PReLU[0][0]          \n",
      "__________________________________________________________________________________________________\n",
      "down/1/same/0/PReLU (PReLU)     (None, 68, 120, 256) 256         down/1/same/0/Conv2D[0][0]       \n",
      "__________________________________________________________________________________________________\n",
      "down/1/same/1/Conv2D (Conv2D)   (None, 68, 120, 256) 590080      down/1/same/0/PReLU[0][0]        \n",
      "__________________________________________________________________________________________________\n",
      "down/1/same/1/PReLU (PReLU)     (None, 68, 120, 256) 256         down/1/same/1/Conv2D[0][0]       \n",
      "__________________________________________________________________________________________________\n",
      "down/1/down/Conv2D (Conv2D)     (None, 34, 60, 256)  590080      down/1/same/1/PReLU[0][0]        \n",
      "__________________________________________________________________________________________________\n",
      "down/1/down/PReLU (PReLU)       (None, 34, 60, 256)  256         down/1/down/Conv2D[0][0]         \n",
      "__________________________________________________________________________________________________\n",
      "bottom/1/same0/Conv2D (Conv2D)  (None, 34, 60, 512)  1180160     down/1/down/PReLU[0][0]          \n",
      "__________________________________________________________________________________________________\n",
      "bottom/1/same0/PReLU (PReLU)    (None, 34, 60, 512)  512         bottom/1/same0/Conv2D[0][0]      \n",
      "__________________________________________________________________________________________________\n",
      "bottom/1/same1/Conv2D (Conv2D)  (None, 34, 60, 512)  2359808     bottom/1/same0/PReLU[0][0]       \n",
      "__________________________________________________________________________________________________\n",
      "bottom/1/same1/PReLU (PReLU)    (None, 34, 60, 512)  512         bottom/1/same1/Conv2D[0][0]      \n",
      "__________________________________________________________________________________________________\n",
      "up/0/up/Conv2DTrans (Conv2DTran (None, 68, 120, 512) 2359808     bottom/1/same1/PReLU[0][0]       \n",
      "__________________________________________________________________________________________________\n",
      "up/0/up/PReLU (PReLU)           (None, 68, 120, 512) 512         up/0/up/Conv2DTrans[0][0]        \n",
      "__________________________________________________________________________________________________\n",
      "up/0/concat/Cropping2D (Croppin (None, 68, 120, 512) 0           up/0/up/PReLU[0][0]              \n",
      "__________________________________________________________________________________________________\n",
      "up/0/concat/Concatenate (Concat (None, 68, 120, 768) 0           down/1/same/1/PReLU[0][0]        \n",
      "                                                                 up/0/concat/Cropping2D[0][0]     \n",
      "__________________________________________________________________________________________________\n",
      "up/0/same/0/Conv2D (Conv2D)     (None, 68, 120, 256) 1769728     up/0/concat/Concatenate[0][0]    \n",
      "__________________________________________________________________________________________________\n",
      "up/0/same/0/PReLU (PReLU)       (None, 68, 120, 256) 256         up/0/same/0/Conv2D[0][0]         \n",
      "__________________________________________________________________________________________________\n",
      "up/0/same/1/Conv2D (Conv2D)     (None, 68, 120, 256) 590080      up/0/same/0/PReLU[0][0]          \n",
      "__________________________________________________________________________________________________\n",
      "up/0/same/1/PReLU (PReLU)       (None, 68, 120, 256) 256         up/0/same/1/Conv2D[0][0]         \n",
      "__________________________________________________________________________________________________\n",
      "up/1/up/Conv2DTrans (Conv2DTran (None, 136, 240, 256 590080      up/0/same/1/PReLU[0][0]          \n",
      "__________________________________________________________________________________________________\n",
      "up/1/up/PReLU (PReLU)           (None, 136, 240, 256 256         up/1/up/Conv2DTrans[0][0]        \n",
      "__________________________________________________________________________________________________\n",
      "up/1/concat/Cropping2D (Croppin (None, 135, 240, 256 0           up/1/up/PReLU[0][0]              \n",
      "__________________________________________________________________________________________________\n",
      "up/1/concat/Concatenate (Concat (None, 135, 240, 384 0           down/0/same/1/PReLU[0][0]        \n",
      "                                                                 up/1/concat/Cropping2D[0][0]     \n",
      "__________________________________________________________________________________________________\n",
      "up/1/same/0/Conv2D (Conv2D)     (None, 135, 240, 128 442496      up/1/concat/Concatenate[0][0]    \n",
      "__________________________________________________________________________________________________\n",
      "up/1/same/0/PReLU (PReLU)       (None, 135, 240, 128 128         up/1/same/0/Conv2D[0][0]         \n",
      "__________________________________________________________________________________________________\n",
      "up/1/same/1/Conv2D (Conv2D)     (None, 135, 240, 128 147584      up/1/same/0/PReLU[0][0]          \n",
      "__________________________________________________________________________________________________\n",
      "up/1/same/1/PReLU (PReLU)       (None, 135, 240, 128 128         up/1/same/1/Conv2D[0][0]         \n",
      "__________________________________________________________________________________________________\n",
      "up/2/up/Conv2DTrans (Conv2DTran (None, 270, 480, 128 147584      up/1/same/1/PReLU[0][0]          \n",
      "__________________________________________________________________________________________________\n",
      "up/2/up/PReLU (PReLU)           (None, 270, 480, 128 128         up/2/up/Conv2DTrans[0][0]        \n",
      "__________________________________________________________________________________________________\n",
      "up/2/same/0/Conv2D (Conv2D)     (None, 270, 480, 128 147584      up/2/up/PReLU[0][0]              \n",
      "__________________________________________________________________________________________________\n",
      "up/2/same/0/PReLU (PReLU)       (None, 270, 480, 128 128         up/2/same/0/Conv2D[0][0]         \n",
      "__________________________________________________________________________________________________\n",
      "up/2/same/1/Conv2D (Conv2D)     (None, 270, 480, 128 147584      up/2/same/0/PReLU[0][0]          \n",
      "__________________________________________________________________________________________________\n",
      "up/2/same/1/PReLU (PReLU)       (None, 270, 480, 128 128         up/2/same/1/Conv2D[0][0]         \n",
      "__________________________________________________________________________________________________\n",
      "up/3/up/Conv2DTrans (Conv2DTran (None, 540, 960, 128 147584      up/2/same/1/PReLU[0][0]          \n",
      "__________________________________________________________________________________________________\n",
      "up/3/up/PReLU (PReLU)           (None, 540, 960, 128 128         up/3/up/Conv2DTrans[0][0]        \n",
      "__________________________________________________________________________________________________\n",
      "up/3/same/0/Conv2D (Conv2D)     (None, 540, 960, 128 147584      up/3/up/PReLU[0][0]              \n",
      "__________________________________________________________________________________________________\n",
      "up/3/same/0/PReLU (PReLU)       (None, 540, 960, 128 128         up/3/same/0/Conv2D[0][0]         \n",
      "__________________________________________________________________________________________________\n",
      "up/3/same/1/Conv2D (Conv2D)     (None, 540, 960, 128 147584      up/3/same/0/PReLU[0][0]          \n",
      "__________________________________________________________________________________________________\n",
      "up/3/same/1/PReLU (PReLU)       (None, 540, 960, 128 128         up/3/same/1/Conv2D[0][0]         \n",
      "__________________________________________________________________________________________________\n",
      "up/4/up/Conv2DTrans (Conv2DTran (None, 1080, 1920, 1 147584      up/3/same/1/PReLU[0][0]          \n",
      "__________________________________________________________________________________________________\n",
      "up/4/up/PReLU (PReLU)           (None, 1080, 1920, 1 128         up/4/up/Conv2DTrans[0][0]        \n",
      "__________________________________________________________________________________________________\n",
      "up/4/same/0/Conv2D (Conv2D)     (None, 1080, 1920, 1 147584      up/4/up/PReLU[0][0]              \n",
      "__________________________________________________________________________________________________\n",
      "up/4/same/0/PReLU (PReLU)       (None, 1080, 1920, 1 128         up/4/same/0/Conv2D[0][0]         \n",
      "__________________________________________________________________________________________________\n",
      "up/4/same/1/Conv2D (Conv2D)     (None, 1080, 1920, 1 147584      up/4/same/0/PReLU[0][0]          \n",
      "__________________________________________________________________________________________________\n",
      "up/4/same/1/PReLU (PReLU)       (None, 1080, 1920, 1 128         up/4/same/1/Conv2D[0][0]         \n",
      "__________________________________________________________________________________________________\n",
      "final/Conv2D (Conv2D)           (None, 1080, 1920, 3 31107       up/4/same/1/PReLU[0][0]          \n",
      "__________________________________________________________________________________________________\n",
      "final/tanh (Activation)         (None, 1080, 1920, 3 0           final/Conv2D[0][0]               \n",
      "__________________________________________________________________________________________________\n",
      "final/Cropping2D (Cropping2D)   (None, 1080, 1920, 3 0           final/tanh[0][0]                 \n",
      "==================================================================================================\n",
      "Total params: 12,753,411\n",
      "Trainable params: 12,753,411\n",
      "Non-trainable params: 0\n",
      "__________________________________________________________________________________________________\n"
     ]
    }
   ],
   "source": [
    "m.summary()"
   ]
  },
  {
   "cell_type": "code",
   "execution_count": 260,
   "metadata": {},
   "outputs": [
    {
     "data": {
      "text/plain": [
       "3"
      ]
     },
     "execution_count": 260,
     "metadata": {},
     "output_type": "execute_result"
    }
   ],
   "source": [
    "len([1,2,3])"
   ]
  },
  {
   "cell_type": "code",
   "execution_count": null,
   "metadata": {},
   "outputs": [],
   "source": []
  }
 ],
 "metadata": {
  "kernelspec": {
   "display_name": "Python 3",
   "language": "python",
   "name": "python3"
  },
  "language_info": {
   "codemirror_mode": {
    "name": "ipython",
    "version": 3
   },
   "file_extension": ".py",
   "mimetype": "text/x-python",
   "name": "python",
   "nbconvert_exporter": "python",
   "pygments_lexer": "ipython3",
   "version": "3.7.3"
  }
 },
 "nbformat": 4,
 "nbformat_minor": 4
}
