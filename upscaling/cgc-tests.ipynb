{
 "cells": [
  {
   "cell_type": "code",
   "execution_count": 1,
   "metadata": {},
   "outputs": [],
   "source": [
    "from skimage import data, io, filters\n",
    "import numpy as np\n",
    "from numpy import array\n",
    "from numpy.random import randint\n",
    "import pandas as pd\n",
    "from PIL import Image\n",
    "import os\n",
    "import sys\n",
    "from tqdm import tqdm_notebook\n",
    "\n",
    "from upscaler.data import load_images_from_dir, crop_images, select_random_rows, convert_image_series_to_array"
   ]
  },
  {
   "cell_type": "code",
   "execution_count": 15,
   "metadata": {},
   "outputs": [
    {
     "data": {
      "application/vnd.jupyter.widget-view+json": {
       "model_id": "235e9c2369684e4697f9dd1f50da6869",
       "version_major": 2,
       "version_minor": 0
      },
      "text/plain": [
       "HBox(children=(IntProgress(value=0, description='Loading files', max=483, style=ProgressStyle(description_widt…"
      ]
     },
     "metadata": {},
     "output_type": "display_data"
    },
    {
     "name": "stdout",
     "output_type": "stream",
     "text": [
      "\n"
     ]
    }
   ],
   "source": [
    "images_fullhd = load_images_from_dir(\n",
    "    '../images/ukiyo-e_fullhd/',\n",
    "    '.jpg',\n",
    "    limit = 4000,\n",
    "    prog_func = tqdm_notebook\n",
    ")\n",
    "images_fullhd = images_fullhd.rename(columns={'image_hr': 'fullhd'})"
   ]
  },
  {
   "cell_type": "code",
   "execution_count": 30,
   "metadata": {},
   "outputs": [
    {
     "data": {
      "application/vnd.jupyter.widget-view+json": {
       "model_id": "172c79d3f2a740cda368725cff3120e2",
       "version_major": 2,
       "version_minor": 0
      },
      "text/plain": [
       "HBox(children=(IntProgress(value=0, description='Loading files', max=1664, style=ProgressStyle(description_wid…"
      ]
     },
     "metadata": {},
     "output_type": "display_data"
    },
    {
     "name": "stdout",
     "output_type": "stream",
     "text": [
      "\n"
     ]
    }
   ],
   "source": [
    "images_1gen = load_images_from_dir(\n",
    "    '../images/ukiyo-e_1gen/',\n",
    "    '.jpg',\n",
    "    limit = 4000,\n",
    "    prog_func = tqdm_notebook\n",
    ")\n",
    "images_1gen = images_1gen.rename(columns={'image_hr': 'gen1'}).drop(columns='image_size')"
   ]
  },
  {
   "cell_type": "code",
   "execution_count": 31,
   "metadata": {},
   "outputs": [
    {
     "data": {
      "application/vnd.jupyter.widget-view+json": {
       "model_id": "0189fb227be24b74bae2e0ec1847301f",
       "version_major": 2,
       "version_minor": 0
      },
      "text/plain": [
       "HBox(children=(IntProgress(value=0, description='Loading files', max=1664, style=ProgressStyle(description_wid…"
      ]
     },
     "metadata": {},
     "output_type": "display_data"
    },
    {
     "name": "stdout",
     "output_type": "stream",
     "text": [
      "\n"
     ]
    }
   ],
   "source": [
    "images_2gen = load_images_from_dir(\n",
    "    '../images/ukiyo-e_2gen/',\n",
    "    '.jpg',\n",
    "    limit = 4000,\n",
    "    prog_func = tqdm_notebook\n",
    ")\n",
    "images_2gen = images_2gen.rename(columns={'image_hr': 'gen2'}).drop(columns='image_size')"
   ]
  },
  {
   "cell_type": "code",
   "execution_count": 56,
   "metadata": {},
   "outputs": [],
   "source": [
    "images = images_fullhd.join(images_1gen.set_index('filename'), on = 'filename').join(images_2gen.set_index('filename'), on = 'filename', how = 'inner')"
   ]
  },
  {
   "cell_type": "code",
   "execution_count": 57,
   "metadata": {},
   "outputs": [
    {
     "data": {
      "text/plain": [
       "filename                            1145-portrait-of-daruma.jpg\n",
       "image_size                                         (1920, 1080)\n",
       "fullhd        <PIL.Image.Image image mode=RGB size=1920x1080...\n",
       "gen1          <PIL.Image.Image image mode=RGB size=480x270 a...\n",
       "gen2          <PIL.Image.Image image mode=RGB size=480x270 a...\n",
       "Name: 326, dtype: object"
      ]
     },
     "execution_count": 57,
     "metadata": {},
     "output_type": "execute_result"
    }
   ],
   "source": [
    "images.iloc[324,:]"
   ]
  }
 ],
 "metadata": {
  "kernelspec": {
   "display_name": "Python 3",
   "language": "python",
   "name": "python3"
  },
  "language_info": {
   "codemirror_mode": {
    "name": "ipython",
    "version": 3
   },
   "file_extension": ".py",
   "mimetype": "text/x-python",
   "name": "python",
   "nbconvert_exporter": "python",
   "pygments_lexer": "ipython3",
   "version": "3.6.6"
  }
 },
 "nbformat": 4,
 "nbformat_minor": 4
}
